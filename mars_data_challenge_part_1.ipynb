{
 "cells": [
  {
   "cell_type": "code",
   "execution_count": 1,
   "id": "91a803b9",
   "metadata": {},
   "outputs": [],
   "source": [
    "# Import Splinter and BeautifulSoup\n",
    "from splinter import Browser\n",
    "from bs4 import BeautifulSoup as soup\n",
    "from webdriver_manager.chrome import ChromeDriverManager\n",
    "import pandas as pd"
   ]
  },
  {
   "cell_type": "code",
   "execution_count": 2,
   "id": "75a1c20a",
   "metadata": {},
   "outputs": [],
   "source": [
    "#Path to automate our browser.\n",
    "executable_path = {'executable_path': ChromeDriverManager().install()}\n",
    "browser = Browser('chrome', **executable_path, headless=False)"
   ]
  },
  {
   "cell_type": "code",
   "execution_count": 3,
   "id": "bb518a4a",
   "metadata": {},
   "outputs": [],
   "source": [
    "# Visit the mars nasa news site\n",
    "url = 'https://redplanetscience.com/'\n",
    "browser.visit(url)"
   ]
  },
  {
   "cell_type": "code",
   "execution_count": 4,
   "id": "603c342d",
   "metadata": {},
   "outputs": [],
   "source": [
    "html = browser.html\n",
    "news_soup = soup(html, 'html.parser')"
   ]
  },
  {
   "cell_type": "code",
   "execution_count": 5,
   "id": "f02a9af4",
   "metadata": {},
   "outputs": [],
   "source": [
    "news = news_soup.find_all('div', class_= 'list_text')\n"
   ]
  },
  {
   "cell_type": "code",
   "execution_count": 6,
   "id": "3695a8e1",
   "metadata": {},
   "outputs": [
    {
     "name": "stdout",
     "output_type": "stream",
     "text": [
      "[{'title': 'NASA Perseverance Mars Rover Scientists Train in the Nevada Desert', 'preview': \"Team members searched for signs of ancient microscopic life there, just as NASA's latest rover will on the Red Planet next year.\"}, {'title': 'Mars Is Getting a New Robotic Meteorologist', 'preview': \"Sensors on NASA's Perseverance will help prepare for future human exploration by taking weather measurements and studying dust particles.\"}, {'title': 'NASA Invites Public to Share Excitement of Mars 2020 Perseverance Rover Launch', 'preview': 'There are lots of ways to participate in the historic event, which is targeted for July 30.'}, {'title': 'NASA Updates Mars 2020 Mission Environmental Review', 'preview': 'NASA and the Department of Energy have completed a more detailed risk analysis for the Mars 2020 rover launch from Florida.'}, {'title': \"A Martian Roundtrip: NASA's Perseverance Rover Sample Tubes\", 'preview': \"Marvels of engineering, the rover's sample tubes must be tough enough to safely bring Red Planet samples on the long journey back to Earth in immaculate condition. \"}, {'title': \"Follow NASA's Perseverance Rover in Real Time on Its Way to Mars\", 'preview': \"A crisply rendered web application can show you where the agency's Mars 2020 mission is right now as it makes its way to the Red Planet for a Feb. 18, 2021, landing.\"}, {'title': \"NASA InSight's 'Mole' Is Out of Sight\", 'preview': \"Now that the heat probe is just below the Martian surface, InSight's arm will scoop some additional soil on top to help it keep digging so it can take Mars' temperature.\"}, {'title': \"NASA's Curiosity Rover Finds an Ancient Oasis on Mars\", 'preview': \"New evidence suggests salty, shallow ponds once dotted a Martian crater — a sign of the planet's drying climate.\"}, {'title': 'NASA Invites Students to Name Mars 2020 Rover', 'preview': \"Through Nov. 1, K-12 students in the U.S. are encouraged to enter an essay contest to name NASA's next Mars rover.\"}, {'title': \"NASA's Perseverance Rover Will Carry First Spacesuit Materials to Mars\", 'preview': 'In a Q&A, spacesuit designer Amy Ross explains how five samples, including a piece of helmet visor, will be tested aboard the rover, which is targeting a July 30 launch. '}, {'title': 'New Selfie Shows Curiosity, the Mars Chemist', 'preview': 'The NASA rover performed a special chemistry experiment at the location captured in its newest self-portrait.'}, {'title': 'Heat and Dust Help Launch Martian Water Into Space, Scientists Find', 'preview': 'Scientists using an instrument aboard NASA’s Mars Atmosphere and Volatile EvolutioN, or MAVEN, spacecraft have discovered that water vapor near the surface of the Red Planet is lofted higher into the atmosphere than anyone expected was possible. '}, {'title': \"From JPL's Mailroom to Mars and Beyond\", 'preview': 'Bill Allen has thrived as the mechanical systems design lead for three Mars rover missions, but he got his start as a teenager sorting letters for the NASA center.'}, {'title': \"A New Video Captures the Science of NASA's Perseverance Mars Rover\", 'preview': 'With a targeted launch date of July 30, the next robotic scientist NASA is sending to the to the Red Planet has big ambitions.'}, {'title': \"NASA's Curiosity Keeps Rolling As Team Operates Rover From Home\", 'preview': 'The team has learned to meet new challenges as they work remotely on the Mars mission.'}]\n"
     ]
    }
   ],
   "source": [
    "#Scrape the title and preview text, or summary text, of each article on the landing page\n",
    "mars_list = []\n",
    "for row in news:\n",
    "    row_heading = row.find('div', class_= 'content_title').text\n",
    "    row_data = row.find('div', class_= 'article_teaser_body').text \n",
    "    mars_news = {}\n",
    "    mars_news[\"title\"]= row_heading\n",
    "    mars_news['preview'] = row_data\n",
    "    mars_list.append(mars_news)\n",
    "print(mars_list)"
   ]
  },
  {
   "cell_type": "code",
   "execution_count": null,
   "id": "27f79375",
   "metadata": {},
   "outputs": [],
   "source": []
  }
 ],
 "metadata": {
  "kernelspec": {
   "display_name": "Python 3 (ipykernel)",
   "language": "python",
   "name": "python3"
  },
  "language_info": {
   "codemirror_mode": {
    "name": "ipython",
    "version": 3
   },
   "file_extension": ".py",
   "mimetype": "text/x-python",
   "name": "python",
   "nbconvert_exporter": "python",
   "pygments_lexer": "ipython3",
   "version": "3.7.13"
  }
 },
 "nbformat": 4,
 "nbformat_minor": 5
}
